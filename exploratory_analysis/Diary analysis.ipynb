{
 "cells": [
  {
   "cell_type": "code",
   "execution_count": 539,
   "metadata": {},
   "outputs": [],
   "source": [
    "import pandas as pd\n",
    "import numpy as np\n",
    "import matplotlib.pyplot as plt\n",
    "import pylab as pl\n",
    "import seaborn as sns"
   ]
  },
  {
   "cell_type": "raw",
   "metadata": {},
   "source": [
    "# This data can be used to evaluate effectivenes of ESM method by comapring the values reported by patient for pain but also for some other questions. We have to discuss with Daniel on which categories we can link both methods, as the questions differ. For example - is \"The intestinal gas is causing discomfort\" the same as \"Abdominal discomfort?\""
   ]
  },
  {
   "cell_type": "code",
   "execution_count": 540,
   "metadata": {},
   "outputs": [
    {
     "data": {
      "text/html": [
       "<div>\n",
       "<style scoped>\n",
       "    .dataframe tbody tr th:only-of-type {\n",
       "        vertical-align: middle;\n",
       "    }\n",
       "\n",
       "    .dataframe tbody tr th {\n",
       "        vertical-align: top;\n",
       "    }\n",
       "\n",
       "    .dataframe thead th {\n",
       "        text-align: right;\n",
       "    }\n",
       "</style>\n",
       "<table border=\"1\" class=\"dataframe\">\n",
       "  <thead>\n",
       "    <tr style=\"text-align: right;\">\n",
       "      <th></th>\n",
       "      <th>ESM_ABDPAIN</th>\n",
       "      <th>Stool_freq</th>\n",
       "      <th>Pain</th>\n",
       "      <th>Diary_discomfort</th>\n",
       "      <th>Diary_belching</th>\n",
       "      <th>Diary_bloating</th>\n",
       "      <th>Diary_flatulence</th>\n",
       "      <th>Diary_diarrhea</th>\n",
       "      <th>Diary_constipation</th>\n",
       "      <th>Diary_urge</th>\n",
       "      <th>...</th>\n",
       "      <th>Diary_med5_numb</th>\n",
       "      <th>Diary_med6_name</th>\n",
       "      <th>Diary_med6_dos</th>\n",
       "      <th>Diary_med6_numb</th>\n",
       "      <th>Diary_med7_name</th>\n",
       "      <th>Diary_med7_dos</th>\n",
       "      <th>Diary_med7_numb</th>\n",
       "      <th>Diary_med8_name</th>\n",
       "      <th>Diary_med8_dos</th>\n",
       "      <th>Diary_med8_numb</th>\n",
       "    </tr>\n",
       "  </thead>\n",
       "  <tbody>\n",
       "    <tr>\n",
       "      <th>0</th>\n",
       "      <td>2.0</td>\n",
       "      <td>2.0</td>\n",
       "      <td>9.0</td>\n",
       "      <td>7.0</td>\n",
       "      <td>3.0</td>\n",
       "      <td>8.0</td>\n",
       "      <td>4.0</td>\n",
       "      <td>0.0</td>\n",
       "      <td>0.0</td>\n",
       "      <td>1.0</td>\n",
       "      <td>...</td>\n",
       "      <td>NaN</td>\n",
       "      <td>...</td>\n",
       "      <td>...</td>\n",
       "      <td>NaN</td>\n",
       "      <td>...</td>\n",
       "      <td>...</td>\n",
       "      <td>NaN</td>\n",
       "      <td>...</td>\n",
       "      <td>...</td>\n",
       "      <td>NaN</td>\n",
       "    </tr>\n",
       "    <tr>\n",
       "      <th>1</th>\n",
       "      <td>4.0</td>\n",
       "      <td>2.0</td>\n",
       "      <td>9.0</td>\n",
       "      <td>7.0</td>\n",
       "      <td>3.0</td>\n",
       "      <td>8.0</td>\n",
       "      <td>4.0</td>\n",
       "      <td>0.0</td>\n",
       "      <td>0.0</td>\n",
       "      <td>1.0</td>\n",
       "      <td>...</td>\n",
       "      <td>NaN</td>\n",
       "      <td>...</td>\n",
       "      <td>...</td>\n",
       "      <td>NaN</td>\n",
       "      <td>...</td>\n",
       "      <td>...</td>\n",
       "      <td>NaN</td>\n",
       "      <td>...</td>\n",
       "      <td>...</td>\n",
       "      <td>NaN</td>\n",
       "    </tr>\n",
       "    <tr>\n",
       "      <th>2</th>\n",
       "      <td>4.0</td>\n",
       "      <td>2.0</td>\n",
       "      <td>9.0</td>\n",
       "      <td>7.0</td>\n",
       "      <td>3.0</td>\n",
       "      <td>8.0</td>\n",
       "      <td>4.0</td>\n",
       "      <td>0.0</td>\n",
       "      <td>0.0</td>\n",
       "      <td>1.0</td>\n",
       "      <td>...</td>\n",
       "      <td>NaN</td>\n",
       "      <td>...</td>\n",
       "      <td>...</td>\n",
       "      <td>NaN</td>\n",
       "      <td>...</td>\n",
       "      <td>...</td>\n",
       "      <td>NaN</td>\n",
       "      <td>...</td>\n",
       "      <td>...</td>\n",
       "      <td>NaN</td>\n",
       "    </tr>\n",
       "    <tr>\n",
       "      <th>3</th>\n",
       "      <td>7.0</td>\n",
       "      <td>2.0</td>\n",
       "      <td>9.0</td>\n",
       "      <td>7.0</td>\n",
       "      <td>3.0</td>\n",
       "      <td>8.0</td>\n",
       "      <td>4.0</td>\n",
       "      <td>0.0</td>\n",
       "      <td>0.0</td>\n",
       "      <td>1.0</td>\n",
       "      <td>...</td>\n",
       "      <td>NaN</td>\n",
       "      <td>...</td>\n",
       "      <td>...</td>\n",
       "      <td>NaN</td>\n",
       "      <td>...</td>\n",
       "      <td>...</td>\n",
       "      <td>NaN</td>\n",
       "      <td>...</td>\n",
       "      <td>...</td>\n",
       "      <td>NaN</td>\n",
       "    </tr>\n",
       "    <tr>\n",
       "      <th>4</th>\n",
       "      <td>9.0</td>\n",
       "      <td>2.0</td>\n",
       "      <td>9.0</td>\n",
       "      <td>7.0</td>\n",
       "      <td>3.0</td>\n",
       "      <td>8.0</td>\n",
       "      <td>4.0</td>\n",
       "      <td>0.0</td>\n",
       "      <td>0.0</td>\n",
       "      <td>1.0</td>\n",
       "      <td>...</td>\n",
       "      <td>NaN</td>\n",
       "      <td>...</td>\n",
       "      <td>...</td>\n",
       "      <td>NaN</td>\n",
       "      <td>...</td>\n",
       "      <td>...</td>\n",
       "      <td>NaN</td>\n",
       "      <td>...</td>\n",
       "      <td>...</td>\n",
       "      <td>NaN</td>\n",
       "    </tr>\n",
       "  </tbody>\n",
       "</table>\n",
       "<p>5 rows × 34 columns</p>\n",
       "</div>"
      ],
      "text/plain": [
       "   ESM_ABDPAIN  Stool_freq  Pain  Diary_discomfort  Diary_belching  \\\n",
       "0          2.0         2.0   9.0               7.0             3.0   \n",
       "1          4.0         2.0   9.0               7.0             3.0   \n",
       "2          4.0         2.0   9.0               7.0             3.0   \n",
       "3          7.0         2.0   9.0               7.0             3.0   \n",
       "4          9.0         2.0   9.0               7.0             3.0   \n",
       "\n",
       "   Diary_bloating  Diary_flatulence  Diary_diarrhea  Diary_constipation  \\\n",
       "0             8.0               4.0             0.0                 0.0   \n",
       "1             8.0               4.0             0.0                 0.0   \n",
       "2             8.0               4.0             0.0                 0.0   \n",
       "3             8.0               4.0             0.0                 0.0   \n",
       "4             8.0               4.0             0.0                 0.0   \n",
       "\n",
       "   Diary_urge  ... Diary_med5_numb  \\\n",
       "0         1.0  ...             NaN   \n",
       "1         1.0  ...             NaN   \n",
       "2         1.0  ...             NaN   \n",
       "3         1.0  ...             NaN   \n",
       "4         1.0  ...             NaN   \n",
       "\n",
       "                                     Diary_med6_name  \\\n",
       "0                                                ...   \n",
       "1                                                ...   \n",
       "2                                                ...   \n",
       "3                                                ...   \n",
       "4                                                ...   \n",
       "\n",
       "                                      Diary_med6_dos Diary_med6_numb  \\\n",
       "0                                                ...             NaN   \n",
       "1                                                ...             NaN   \n",
       "2                                                ...             NaN   \n",
       "3                                                ...             NaN   \n",
       "4                                                ...             NaN   \n",
       "\n",
       "                                     Diary_med7_name  \\\n",
       "0                                                ...   \n",
       "1                                                ...   \n",
       "2                                                ...   \n",
       "3                                                ...   \n",
       "4                                                ...   \n",
       "\n",
       "                                      Diary_med7_dos Diary_med7_numb  \\\n",
       "0                                                ...             NaN   \n",
       "1                                                ...             NaN   \n",
       "2                                                ...             NaN   \n",
       "3                                                ...             NaN   \n",
       "4                                                ...             NaN   \n",
       "\n",
       "                                     Diary_med8_name  \\\n",
       "0                                                ...   \n",
       "1                                                ...   \n",
       "2                                                ...   \n",
       "3                                                ...   \n",
       "4                                                ...   \n",
       "\n",
       "                                      Diary_med8_dos Diary_med8_numb  \n",
       "0                                                ...             NaN  \n",
       "1                                                ...             NaN  \n",
       "2                                                ...             NaN  \n",
       "3                                                ...             NaN  \n",
       "4                                                ...             NaN  \n",
       "\n",
       "[5 rows x 34 columns]"
      ]
     },
     "execution_count": 540,
     "metadata": {},
     "output_type": "execute_result"
    }
   ],
   "source": [
    "df = pd.read_csv(\"C:/Users/Jakub/Documents/GitHub/ESM/data/raw.csv\")\n",
    "diary = df[['ESM_ABDPAIN','Stool_freq','Pain','Diary_discomfort','Diary_belching','Diary_bloating','Diary_flatulence','Diary_diarrhea','Diary_constipation','Diary_urge','Diary_med1_name','Diary_med1_dos','Diary_med1_numb','Diary_med2_name','Diary_med2_dos','Diary_med2_numb','Diary_med3_name','Diary_med3_dos','Diary_med3_numb','Diary_med4_name','Diary_med4_dos','Diary_med4_numb','Diary_med5_name','Diary_med5_dos','Diary_med5_numb','Diary_med6_name','Diary_med6_dos','Diary_med6_numb','Diary_med7_name','Diary_med7_dos','Diary_med7_numb','Diary_med8_name','Diary_med8_dos','Diary_med8_numb']]\n",
    "diary.head()"
   ]
  },
  {
   "cell_type": "code",
   "execution_count": 541,
   "metadata": {},
   "outputs": [
    {
     "data": {
      "text/plain": [
       "ESM_ABDPAIN              1\n",
       "Stool_freq              39\n",
       "Pain                    57\n",
       "Diary_discomfort        51\n",
       "Diary_belching          51\n",
       "Diary_bloating          51\n",
       "Diary_flatulence        51\n",
       "Diary_diarrhea          51\n",
       "Diary_constipation      51\n",
       "Diary_urge              59\n",
       "Diary_med1_name         39\n",
       "Diary_med1_dos          39\n",
       "Diary_med1_numb       2082\n",
       "Diary_med2_name         39\n",
       "Diary_med2_dos          39\n",
       "Diary_med2_numb       3057\n",
       "Diary_med3_name         39\n",
       "Diary_med3_dos          39\n",
       "Diary_med3_numb       3193\n",
       "Diary_med4_name         39\n",
       "Diary_med4_dos          39\n",
       "Diary_med4_numb       3357\n",
       "Diary_med5_name         39\n",
       "Diary_med5_dos          39\n",
       "Diary_med5_numb       3411\n",
       "Diary_med6_name         39\n",
       "Diary_med6_dos          39\n",
       "Diary_med6_numb       3418\n",
       "Diary_med7_name         39\n",
       "Diary_med7_dos          39\n",
       "Diary_med7_numb       3460\n",
       "Diary_med8_name         39\n",
       "Diary_med8_dos          39\n",
       "Diary_med8_numb       3476\n",
       "dtype: int64"
      ]
     },
     "execution_count": 541,
     "metadata": {},
     "output_type": "execute_result"
    }
   ],
   "source": [
    "diary.isnull().sum()"
   ]
  },
  {
   "cell_type": "code",
   "execution_count": 542,
   "metadata": {},
   "outputs": [
    {
     "data": {
      "text/plain": [
       "ESM_ABDPAIN              1\n",
       "Stool_freq              39\n",
       "Pain                    57\n",
       "Diary_discomfort        51\n",
       "Diary_belching          51\n",
       "Diary_bloating          51\n",
       "Diary_flatulence        51\n",
       "Diary_diarrhea          51\n",
       "Diary_constipation      51\n",
       "Diary_urge              59\n",
       "Diary_med1_name       2082\n",
       "Diary_med1_dos        2188\n",
       "Diary_med1_numb       2082\n",
       "Diary_med2_name       3057\n",
       "Diary_med2_dos        3065\n",
       "Diary_med2_numb       3057\n",
       "Diary_med3_name       3185\n",
       "Diary_med3_dos        3193\n",
       "Diary_med3_numb       3193\n",
       "Diary_med4_name       3357\n",
       "Diary_med4_dos        3357\n",
       "Diary_med4_numb       3357\n",
       "Diary_med5_name       3411\n",
       "Diary_med5_dos        3411\n",
       "Diary_med5_numb       3411\n",
       "Diary_med6_name       3418\n",
       "Diary_med6_dos        3476\n",
       "Diary_med6_numb       3418\n",
       "Diary_med7_name       3460\n",
       "Diary_med7_dos        3512\n",
       "Diary_med7_numb       3460\n",
       "Diary_med8_name       3476\n",
       "Diary_med8_dos        3476\n",
       "Diary_med8_numb       3476\n",
       "dtype: int64"
      ]
     },
     "execution_count": 542,
     "metadata": {},
     "output_type": "execute_result"
    }
   ],
   "source": [
    "diary = diary.replace({' ': ''}, regex=True)\n",
    "diary = diary.replace(r'\\s+( +\\.)|#',np.nan,regex=True).replace('',np.nan)\n",
    "diary.isnull().sum()"
   ]
  },
  {
   "cell_type": "code",
   "execution_count": 543,
   "metadata": {},
   "outputs": [
    {
     "data": {
      "text/plain": [
       "<matplotlib.axes._subplots.AxesSubplot at 0x218aea36208>"
      ]
     },
     "execution_count": 543,
     "metadata": {},
     "output_type": "execute_result"
    },
    {
     "data": {
      "image/png": "[encoded data removed]",
      "text/plain": [
       "<Figure size 1440x720 with 4 Axes>"
      ]
     },
     "metadata": {
      "needs_background": "light"
     },
     "output_type": "display_data"
    }
   ],
   "source": [
    "diary = diary.fillna(0)\n",
    "\n",
    "fig, ax = plt.subplots(2,2,figsize=(20,10))\n",
    "\n",
    "ax[0][0].set_title(\"Pain\")\n",
    "ax[0][1].set_title(\"Pain Over 0\")\n",
    "ax[1][0].set_title(\"Pain Overall / Binning at 4\")\n",
    "ax[1][1].set_title(\"Pain Ober 0 / Binning at 4\")\n",
    "\n",
    "sns.distplot(diary[\"Pain\"],ax=ax[0][0])\n",
    "sns.distplot(diary[diary[\"Pain\"]>0][\"Pain\"],ax=ax[0][1])\n",
    "\n",
    "sns.distplot(diary[\"Pain\"], bins=[0,4,10],ax=ax[1][0], kde=False)\n",
    "sns.distplot(diary[diary[\"Pain\"]>0][\"Pain\"], bins = [0,4,10],ax=ax[1][1], kde=False)"
   ]
  },
  {
   "cell_type": "code",
   "execution_count": 544,
   "metadata": {},
   "outputs": [
    {
     "data": {
      "text/plain": [
       "<matplotlib.axes._subplots.AxesSubplot at 0x218afde40b8>"
      ]
     },
     "execution_count": 544,
     "metadata": {},
     "output_type": "execute_result"
    },
    {
     "data": {
      "image/png": "[encoded data removed]",
      "text/plain": [
       "<Figure size 576x576 with 2 Axes>"
      ]
     },
     "metadata": {
      "needs_background": "light"
     },
     "output_type": "display_data"
    }
   ],
   "source": [
    "diary_med_drop = diary.drop(['Diary_med1_name','Diary_med1_dos','Diary_med1_numb','Diary_med2_name','Diary_med2_dos',\n",
    "                              'Diary_med2_numb','Diary_med3_name','Diary_med3_dos','Diary_med3_numb','Diary_med4_name',\n",
    "                              'Diary_med4_dos','Diary_med4_numb','Diary_med5_name','Diary_med5_dos','Diary_med5_numb',\n",
    "                              'Diary_med6_name','Diary_med6_dos','Diary_med6_numb','Diary_med7_name','Diary_med7_dos',\n",
    "                              'Diary_med7_numb','Diary_med8_name','Diary_med8_dos','Diary_med8_numb'], axis=1, inplace=True)\n",
    "fig,ax = plt.subplots(1,1,figsize=(8,8))\n",
    "cor = diary.corr()\n",
    "sns.heatmap(cor,cmap=pl.cm.RdYlGn)"
   ]
  },
  {
   "cell_type": "code",
   "execution_count": 526,
   "metadata": {},
   "outputs": [
    {
     "data": {
      "image/png": "[encoded data removed]",
      "text/plain": [
       "<Figure size 432x288 with 1 Axes>"
      ]
     },
     "metadata": {
      "needs_background": "light"
     },
     "output_type": "display_data"
    }
   ],
   "source": [
    "import numpy\n",
    "from matplotlib import pyplot\n",
    "pain = diary['Pain']\n",
    "ESM = diary['ESM_ABDPAIN']\n",
    "\n",
    "pyplot.hist(pain, alpha=0.5, label='Pain')\n",
    "pyplot.hist(ESM, alpha=0.5, label='ESM_ABDPAIN')\n",
    "pyplot.legend(loc='upper right')\n",
    "pyplot.show()\n",
    "\n"
   ]
  },
  {
   "cell_type": "code",
   "execution_count": null,
   "metadata": {},
   "outputs": [],
   "source": []
  }
 ],
 "metadata": {
  "kernelspec": {
   "display_name": "Python 3",
   "language": "python",
   "name": "python3"
  },
  "language_info": {
   "codemirror_mode": {
    "name": "ipython",
    "version": 3
   },
   "file_extension": ".py",
   "mimetype": "text/x-python",
   "name": "python",
   "nbconvert_exporter": "python",
   "pygments_lexer": "ipython3",
   "version": "3.7.3"
  }
 },
 "nbformat": 4,
 "nbformat_minor": 2
}
