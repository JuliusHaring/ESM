{
 "cells": [
  {
   "cell_type": "code",
   "execution_count": 1,
   "metadata": {},
   "outputs": [],
   "source": [
    "import matplotlib.pyplot as plt\n",
    "import numpy as np\n",
    "import theano\n",
    "import theano.tensor as tt\n",
    "import pymc3 as pm\n",
    "import pandas as pd\n",
    "%matplotlib inline\n",
    "theano.config.floatX = 'float64'\n",
    "theano.config.compute_test_value = 'ignore'"
   ]
  },
  {
   "cell_type": "code",
   "execution_count": 2,
   "metadata": {},
   "outputs": [],
   "source": [
    "def build_B_spline_deg_zero_degree_basis_fns(breaks, x):\n",
    "    \"\"\"Build B spline 0 order basis coefficients with knots at 'breaks'. \n",
    "    N_{i,0}(x) = { 1 if u_i <= x < u_{i+1}, 0 otherwise }\n",
    "    \"\"\"\n",
    "    expr = []\n",
    "    expr.append(tt.switch(x<breaks[1], 1, 0))\n",
    "    for i in range(1, len(breaks)-2):\n",
    "        l_break = breaks[i]\n",
    "        u_break = breaks[i+1]\n",
    "        expr.append(\n",
    "            tt.switch((x>=l_break)&(x<u_break), 1, 0) )\n",
    "    expr.append( tt.switch(x>=breaks[-2], 1, 0) )\n",
    "    return expr"
   ]
  },
  {
   "cell_type": "code",
   "execution_count": 3,
   "metadata": {},
   "outputs": [],
   "source": [
    "def build_B_spline_higher_degree_basis_fns(\n",
    "        breaks, prev_degree_coefs, degree, x):\n",
    "    \"\"\"Build the higer order B spline basis coefficients\n",
    "    N_{i,p}(x) = ((x-u_i)/(u_{i+p}-u_i))N_{i,p-1}(x) \\\n",
    "               + ((u_{i+p+1}-x)/(u_{i+p+1}-u_{i+1}))N_{i+1,p-1}(x)\n",
    "    \"\"\"\n",
    "    assert degree > 0\n",
    "    coefs = []\n",
    "    for i in range(len(prev_degree_coefs)-1):\n",
    "        alpha1 = (x-breaks[i])/(breaks[i+degree]-breaks[i]+1e-12)\n",
    "        alpha2 = (breaks[i+degree+1]-x)/(breaks[i+degree+1]-breaks[i+1]+1e-12)\n",
    "        coef = alpha1*prev_degree_coefs[i] + alpha2*prev_degree_coefs[i+1]\n",
    "        coefs.append(coef)\n",
    "    return coefs"
   ]
  },
  {
   "cell_type": "code",
   "execution_count": 4,
   "metadata": {},
   "outputs": [],
   "source": [
    "def build_B_spline_basis_fns(breaks, max_degree, x):\n",
    "    curr_basis_coefs = build_B_spline_deg_zero_degree_basis_fns(breaks, x)\n",
    "    for degree in range(1, max_degree+1):\n",
    "        curr_basis_coefs = build_B_spline_higher_degree_basis_fns(\n",
    "            breaks, curr_basis_coefs, degree, x)\n",
    "    return curr_basis_coefs"
   ]
  },
  {
   "cell_type": "code",
   "execution_count": 5,
   "metadata": {},
   "outputs": [],
   "source": [
    "def spline_fn_expr(breaks, intercepts, degree, x):\n",
    "    basis_fns = build_B_spline_basis_fns(breaks, degree, x)\n",
    "    spline = 0\n",
    "    for i, basis in enumerate(basis_fns):\n",
    "        spline += intercepts[i]*basis\n",
    "    return spline"
   ]
  },
  {
   "cell_type": "code",
   "execution_count": 6,
   "metadata": {},
   "outputs": [],
   "source": [
    "def compile_spline(data,n_bins,degree,intercepts):\n",
    "    breaks = np.histogram(data, n_bins)[1][1:-1]\n",
    "    for i in range(degree+1):\n",
    "        breaks = np.insert(breaks, 0, data.min()-1e-6)\n",
    "        breaks = np.append(breaks, data.max()+1e-6)\n",
    "    xs = tt.vector(dtype=theano.config.floatX)\n",
    "    f = theano.function([intercepts, xs],spline_fn_expr(breaks, intercepts, degree, xs))\n",
    "    return f"
   ]
  },
  {
   "cell_type": "code",
   "execution_count": 7,
   "metadata": {},
   "outputs": [
    {
     "name": "stdout",
     "output_type": "stream",
     "text": [
      "[ 0.  0.  0. ... 10. 10. 10.]\n"
     ]
    }
   ],
   "source": [
    "filtered = pd.read_csv('../data/filtered.csv')\n",
    "filtered = filtered[[\"ESM_ABDPAIN\",\"ESM_BLOAT2\"]]\n",
    "filtered.dropna(inplace=True)\n",
    "x = filtered['ESM_BLOAT2'].to_numpy()\n",
    "x = np.sort(x)\n",
    "print(x)"
   ]
  },
  {
   "cell_type": "code",
   "execution_count": 8,
   "metadata": {},
   "outputs": [],
   "source": [
    "n_bins = 4\n",
    "degree = 1\n",
    "num_coef = n_bins + degree + 1 # Restraint that must be obeyed by parameter sets of B-splines\n",
    "domain   = x\n",
    "coefficients = tt.vector(dtype=theano.config.floatX)\n",
    "spline = compile_spline(domain,n_bins,degree,coefficients)\n",
    "y_noisy = filtered['ESM_ABDPAIN'].to_numpy()"
   ]
  },
  {
   "cell_type": "code",
   "execution_count": 9,
   "metadata": {},
   "outputs": [],
   "source": [
    "breaks = np.histogram(domain, n_bins)[1][1:-1]\n",
    "for i in range(degree+1):\n",
    "    breaks = np.insert(breaks, 0, domain.min()-1e-6)\n",
    "    breaks = np.append(breaks, domain.max()+1e-6)"
   ]
  },
  {
   "cell_type": "code",
   "execution_count": 10,
   "metadata": {},
   "outputs": [],
   "source": [
    "with pm.Model() as model:   \n",
    "    coef   = pm.Flat('coef',shape = num_coef,testval = np.zeros(num_coef))\n",
    "    x_as_tensor = tt.as_tensor(x)\n",
    "    s = spline_fn_expr(breaks, coef, degree, x_as_tensor)"
   ]
  },
  {
   "cell_type": "code",
   "execution_count": 11,
   "metadata": {},
   "outputs": [
    {
     "name": "stderr",
     "output_type": "stream",
     "text": [
      "Only 200 samples in chain.\n",
      "Auto-assigning NUTS sampler...\n",
      "Initializing NUTS using jitter+adapt_diag...\n",
      "Multiprocess sampling (2 chains in 2 jobs)\n",
      "NUTS: [sigma, coef]\n",
      "Sampling 2 chains, 0 divergences: 100%|██████████| 1400/1400 [00:24<00:00, 57.86draws/s]\n",
      "The chain reached the maximum tree depth. Increase max_treedepth, increase target_accept or reparameterize.\n",
      "The chain reached the maximum tree depth. Increase max_treedepth, increase target_accept or reparameterize.\n",
      "The rhat statistic is larger than 1.4 for some parameters. The sampler did not converge.\n",
      "The number of effective samples is smaller than 10% for some parameters.\n"
     ]
    }
   ],
   "source": [
    "with model:\n",
    "    sigma  = pm.HalfCauchy('sigma',beta=1.0)\n",
    "    y_hat  = pm.Deterministic('y_hat',s)\n",
    "    y      = pm.Normal('y',mu = y_hat,sd = sigma,observed = y_noisy)\n",
    "    trace  = pm.sample(n_init=1, draws=200)"
   ]
  },
  {
   "cell_type": "code",
   "execution_count": 12,
   "metadata": {},
   "outputs": [],
   "source": [
    "T = len(domain)\n",
    "n_samples = 200\n",
    "function_samples= np.zeros([T,n_samples])\n",
    "for i in range(n_samples):\n",
    "    coef_sample = trace['coef'][i,:]\n",
    "    function_samples[:,i] = spline(coef_sample,domain)\n",
    "    \n",
    "ci = np.percentile(function_samples,[95,50,5],axis = 1)"
   ]
  },
  {
   "cell_type": "code",
   "execution_count": 16,
   "metadata": {},
   "outputs": [
    {
     "data": {
      "image/png": "[encoded data removed]",
      "text/plain": [
       "<Figure size 432x288 with 1 Axes>"
      ]
     },
     "metadata": {
      "needs_background": "light"
     },
     "output_type": "display_data"
    }
   ],
   "source": [
    "plt.fill_between(domain,ci[0],ci[2],color='0.5',alpha = 0.5,label = '90% CI')\n",
    "plt.scatter(x,y_noisy,label = 'Noisy realizations of \\nspline-valued process',color='k');\n",
    "#plt.plot(domain,true_mean,color='k',label = 'True function value')\n",
    "plt.legend(loc = 'upper left');\n",
    "plt.xlabel('x');\n",
    "plt.ylabel('f(x)');\n",
    "#plt.savefig('spline_ci',dpi = 400)"
   ]
  },
  {
   "cell_type": "code",
   "execution_count": null,
   "metadata": {},
   "outputs": [],
   "source": []
  }
 ],
 "metadata": {
  "kernelspec": {
   "display_name": "Python 3",
   "language": "python",
   "name": "python3"
  },
  "language_info": {
   "codemirror_mode": {
    "name": "ipython",
    "version": 3
   },
   "file_extension": ".py",
   "mimetype": "text/x-python",
   "name": "python",
   "nbconvert_exporter": "python",
   "pygments_lexer": "ipython3",
   "version": "3.7.2"
  }
 },
 "nbformat": 4,
 "nbformat_minor": 2
}
